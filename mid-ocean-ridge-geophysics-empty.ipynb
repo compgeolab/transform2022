{
 "cells": [
  {
   "cell_type": "markdown",
   "id": "4cd2f2cd-08df-45c8-8f13-76303daebf2a",
   "metadata": {
    "tags": []
   },
   "source": [
    "<h1 style=\"text-align: center; font-size: 3rem;\">A geophysical tour of mid-ocean ridges</h1>\n",
    "<p style=\"text-align: center; color: #666; font-size: 1.5rem;\">A tutorial for <a href=\"https://transform.softwareunderground.org/\">Transform 2022</a></p>\n",
    "<img src=\"https://github.com/compgeolab/transform2022/raw/main/figures/transform-logo.png\" alt=\"Transform2022 logo\" style=\"max-width: 600px; margin: 0 auto 2rem auto; display: block\">\n",
    "<p style=\"text-align: center; color: #666; font-size: 1rem; margin-bottom: 2rem;\"><strong>Instructor:</strong> <a href=\"https://www.leouieda.com\">Leonardo Uieda</a> - University of Liverpool, UK</p>\n",
    "<p style=\"text-align: center;\">Source code: <i class=\"fab fa-github\"></i> <a href=\"https://github.com/compgeolab/transform2022\"><code>compgeolab/transform2022</code></a></p>\n",
    "<p style=\"text-align: center;\">Recording: <i class=\"fab fa-youtube\"></i> <a href=\"https://www.youtube.com/watch?v=NzJmRlJCNbQ\"><code>youtube.com/watch?v=NzJmRlJCNbQ</code></a></p>\n",
    "<p style=\"text-align: center;\"><i class=\"fab fa-creative-commons\"></i><i class=\"fab fa-creative-commons-by\"></i> Text and figures licensed <a href=\"https://creativecommons.org/licenses/by/4.0/\">CC-BY</a></p>\n",
    "<p style=\"text-align: center;\"><i class=\"fab fa-python\"></i> Python code licensed <a href=\"https://github.com/compgeolab/transform2022/blob/main/LICENSE.txt\">BSD 3-clause</a></p>\n",
    "\n",
    "---\n",
    "\n",
    "## ℹ️ About this tutorial\n",
    "\n",
    "Mid-ocean ridges are the places where the oceanic crust and lithosphere are born. They are large mountain ranges in the deep ocean, stretching all around the globe and with heights rivaling that of the tallest mountains on land. Ridges are also a key part of plate tectonics, a major component of the biogeochemical cycle of the oceans, and the home of unique biological communities.\n",
    "\n",
    "In this tutorial, we'll study the **mid-ocean ridges through the lens of geophysics**. We'll use open geophysical data (gravity, bathymetry, lithospheric age) and open-source Python tools to try to answer questions like: \n",
    "\n",
    "* How do ridges stay so tall? \n",
    "* Are they in isostatic equilibrium? \n",
    "* Why do ocean basins get deeper as they age? \n",
    "\n",
    "Along the way, we'll also learn how to translate into code the physical models of the cooling of the lithosphere so that we can compare their predictions with our data.\n",
    "\n",
    "> **Note:** This tutorial was inspired by a computer-based practical lesson that I developed by the module *ENVS398 Global Geophysics & Geodynamics* of the University of Liverpool. Because of the Transform format, some of the more interactive components that I would do during a live in-person class were removed but there is still room for personal experimentation. \n",
    "\n",
    "**Instructions:** See the GitHub repository <i class=\"fab fa-github\"></i> <a href=\"https://github.com/compgeolab/transform2022\"><code>compgeolab/transform2022</code></a> for instructions on computer setup, following the tutorial, asking questions, etc. **I highly encourage everyone to experiment with the code here and explore the data in further detail** after the tutorial content is over."
   ]
  },
  {
   "cell_type": "markdown",
   "id": "984efa9f-0f68-43a2-8b6f-907c301a68bb",
   "metadata": {},
   "source": [
    "## 🐍 Import the required libraries\n",
    "\n",
    "We'll be using several tools from the Scientific Python stack:"
   ]
  },
  {
   "cell_type": "code",
   "execution_count": null,
   "id": "e41c62be-f59a-4487-8298-050b35aa9ca5",
   "metadata": {},
   "outputs": [],
   "source": [
    "import numpy as np\n",
    "import matplotlib.pyplot as plt\n",
    "import xarray as xr\n",
    "import verde as vd\n",
    "import boule\n",
    "import pooch\n",
    "import pygmt\n",
    "import pyproj"
   ]
  },
  {
   "cell_type": "markdown",
   "id": "7ace884a-18da-4bda-ab43-258e55da8379",
   "metadata": {
    "tags": []
   },
   "source": [
    "## 📈 To the data!\n",
    "\n",
    "The data we'll be using in this tutorial are:\n",
    "\n",
    "* [ETOPO1](https://doi.org/10.5281/zenodo.5882203) (public domain): A global model of topography and bathymetry, [originally at 1 arc-minute resolution](https://doi.org/10.7289/V5C8276M) but we'll use a downsampled version to 10 arc-minutes to avoid long downloads.\n",
    "* [Gravity](https://doi.org/10.5281/zenodo.5882207) (CC-BY): A global grid of observed gravity in mGal at 10 arc-minute resolution generated from the [EIGEN-6C4 spherical harmonic model](https://doi.org/10.5880/icgem.2015.1).\n",
    "* [Seafloor (lithosphere) age](https://www.earthbyte.org/category/resources/data-models/seafloor-age/) (CC-BY): A 6 arc-minute grid of global seafloor age by [Seton et al. (2020)](https://doi.org/10.1029/2020GC009214)."
   ]
  },
  {
   "cell_type": "markdown",
   "id": "9027a512-711e-4c02-9e54-dbafe53fb670",
   "metadata": {
    "tags": []
   },
   "source": [
    "### Download the data\n",
    "\n",
    "We can download all of these grids using [Pooch](https://www.fatiando.org/pooch/) if we know where to find them on the internet."
   ]
  },
  {
   "cell_type": "code",
   "execution_count": null,
   "id": "fbcca668-9c27-49b3-a9fd-663c9abecf80",
   "metadata": {},
   "outputs": [],
   "source": []
  },
  {
   "cell_type": "code",
   "execution_count": null,
   "id": "485c12c7-9bd4-461a-9b61-253e4faaba60",
   "metadata": {},
   "outputs": [],
   "source": []
  },
  {
   "cell_type": "code",
   "execution_count": null,
   "id": "bb85186d-af68-441f-b5aa-87a9960eee15",
   "metadata": {},
   "outputs": [],
   "source": []
  },
  {
   "cell_type": "markdown",
   "id": "b95ff2c0-882a-4c54-85ac-0cdf15e634f3",
   "metadata": {},
   "source": [
    "### Load the grids\n",
    "\n",
    "Now we can load these netCDF grids with [xarray](https://docs.xarray.dev)."
   ]
  },
  {
   "cell_type": "code",
   "execution_count": null,
   "id": "1afefe17-1062-4996-a200-a0a4f7486988",
   "metadata": {},
   "outputs": [],
   "source": []
  },
  {
   "cell_type": "code",
   "execution_count": null,
   "id": "c679ae34-858b-4806-b298-ec69b24d8adf",
   "metadata": {},
   "outputs": [],
   "source": []
  },
  {
   "cell_type": "code",
   "execution_count": null,
   "id": "01deec5b-e602-4f7a-bb5d-14f4aa2de7ad",
   "metadata": {},
   "outputs": [],
   "source": []
  },
  {
   "cell_type": "markdown",
   "id": "72a4b68b-aa8e-4000-9aa4-5316a2953e74",
   "metadata": {},
   "source": [
    "Notice that the ETOPO1 and gravity grids are co-registered (meaning that the align perfectly) since there were both created to be used together in the [Fatiando a Terra FAIR data collection](https://github.com/fatiando-data). But the seafloor age grid has a different resolution so the values aren't located in the same places as the other two. We'll have to deal with this later on."
   ]
  },
  {
   "cell_type": "markdown",
   "id": "4d207e5f-7da6-4849-94bb-284d41d5f57e",
   "metadata": {},
   "source": [
    "### Plot the grids\n",
    "\n",
    "Now that we have out grids, we can plot them on maps using [PyGMT](https://www.pygmt.org/).\n",
    "\n",
    "> **💡 Tip:** You could do the same using [Cartopy](https://scitools.org.uk/cartopy/docs/latest/) and [matplotlib](https://matplotlib.org/) but PyGMT is faster and has better support for map projections. "
   ]
  },
  {
   "cell_type": "code",
   "execution_count": null,
   "id": "d33d0fb9-f0c2-4881-85ba-3a65552a5b3e",
   "metadata": {},
   "outputs": [],
   "source": []
  },
  {
   "cell_type": "code",
   "execution_count": null,
   "id": "b1a15754-a480-4568-9fea-7eb994d3b813",
   "metadata": {},
   "outputs": [],
   "source": []
  },
  {
   "cell_type": "code",
   "execution_count": null,
   "id": "de80ef90-0c6b-40a2-9d5e-93304c6f3c75",
   "metadata": {},
   "outputs": [],
   "source": []
  },
  {
   "cell_type": "markdown",
   "id": "293d7fd6-25de-42f3-b9ec-b5016f302ad3",
   "metadata": {},
   "source": [
    "Main things to notice in these plots:\n",
    "\n",
    "* ETOPO1 should be fairly familiar to most people. What we'll be focusing on are the long stretches of shallow bathymetry in the oceans, like the one running in North-South in the middle of the Atlantic. These are the mid-ocean ridges.\n",
    "* Gravity is the absolute value of gravity measured at a constant height of 10 km above the WGS84 reference ellipsoid. By \"gravity\" we mean the combined \"gravitational\" and \"centrifugal\" accelerations. The overall pattern should be familiar to most geoscientists, with stronger gravity at the poles and weaker at the equator because of both the flattening of the Earth and the centrifugal component. Notice also the dim small-scale changes that accompany large mountain ranges and subduction zones.\n",
    "* Seafloor age, as expected, is younger at the mid-ocean ridges and progressively older as we move away from them. Most of the seafloor is between 0-150 Myr (a baby 👶 by geological standards) with only small sections of older lithosphere.\n",
    "\n",
    "> **💡 Tip:** PyGMT and GMT include built-in support for [several different colormaps](https://docs.generic-mapping-tools.org/latest/cookbook/cpts.html) (called \"CPTs\" in GMT)."
   ]
  },
  {
   "cell_type": "markdown",
   "id": "78931443-b9ed-4495-9fad-fc0d9aa3257f",
   "metadata": {},
   "source": [
    "## ⛰️ Isostatic state \n",
    "\n",
    "The first thing we'll do is investigate the **isostatic state** of the mid-ocean ridges. In other words, **are the ridges supported by their buoyancy (isostasy) or by other forces?** \n",
    "\n",
    "This is a job for gravity data! We know that **gravity disturbances should be very small and close to zero** in regions that are locally in isostatic equilibrium (following an Airy–Heiskanen or Pratt–Hayford model). If they are in equilibrium, that means that the height of the ridges is supported mostly by their buoyancy. Since we know that ridges are where the oceanic lithosphere is being created, that buoyancy can't come from a low-density thick crustal root. So this would be **evidence for a lower density asthenosphere beneath the ridges**.\n",
    "\n",
    "So let's calculate the gravity disturbance globally to check this. The disturbance (usually shown as $\\delta g$ in books/papers) is defined as:\n",
    "\n",
    "$$ \\delta g (\\lambda, \\phi, h) = g (\\lambda, \\phi, h) - \\gamma  (\\lambda, \\phi, h) $$\n",
    "\n",
    "in which $(\\lambda, \\phi, h)$ are the longitude, latitude, and height above the ellipsoid, $g$ is the observed amplitude of gravity (i.e., our `gravity` grid), and $\\gamma$ is the **normal gravity** (the amplitude of the gravity caused by a reference ellipsoid like WGS84). \n",
    "\n",
    "Since we have $g$ already, we only need to calculate $\\gamma$ at the same observation points. The [Boule](https://www.fatiando.org/boule/) package is made exactly for this purpose:"
   ]
  },
  {
   "cell_type": "code",
   "execution_count": null,
   "id": "4cb9bb97-2b15-4ea0-902f-3038e951dc0d",
   "metadata": {},
   "outputs": [],
   "source": []
  },
  {
   "cell_type": "markdown",
   "id": "4fbcc1ef-54e2-4420-a9f6-ca69189dc2b6",
   "metadata": {},
   "source": [
    "> ℹ️ **Note:** We don't need to pass the longitude to `WGS84.normal_gravity` because the oblate ellipsoid is symmetric in that dimension and hence it's gravity doesn't depend on it.\n",
    "\n",
    "Plot the gravity disturbance globally to see what it looks like:"
   ]
  },
  {
   "cell_type": "code",
   "execution_count": null,
   "id": "e3acb991-685b-4c5a-86a1-75487721bd49",
   "metadata": {},
   "outputs": [],
   "source": []
  },
  {
   "cell_type": "markdown",
   "id": "41abc7ca-5fef-42a1-b617-23d9cdf29441",
   "metadata": {},
   "source": [
    "Things to note from this map:\n",
    "\n",
    "* The disturbance is **close to zero at mid-ocean ridges** and most of the oceans. This indicates that the ridges and most oceanic basins are in isostatic equilibrium and supported by their buoyancy.\n",
    "* Subduction zones are the main regions where the disturbance is very large, indicating that the relief we see there is due tectonic forces instead of isostasy.\n",
    "* Large oceanic island chains like Hawai'i are also not supported by their buoyancy, resulting in large disturbances. Instead, these islands are kept up by the flexural strength of the oceanic lithosphere itself (i.e., a Vening Meinesz model of isostasy)."
   ]
  },
  {
   "cell_type": "markdown",
   "id": "940a4174-d2ce-4fee-aa65-e69ab2ee3495",
   "metadata": {},
   "source": [
    "## 🔍 Close in on a ridge\n",
    "\n",
    "Let's zoom in on a particular mid-ocean ridge system in the South Pacific (a large section around the island of [Rapa Nui](https://en.wikipedia.org/wiki/Easter_Island)) to study it more closely. We'll slice our grids to this region to select that part of the data only. This is one of the many reasons why **xarray is awesome**!"
   ]
  },
  {
   "cell_type": "code",
   "execution_count": null,
   "id": "625ac4d3-6343-405e-9a43-52f4f5a5b803",
   "metadata": {},
   "outputs": [],
   "source": []
  },
  {
   "cell_type": "markdown",
   "id": "bd2d5e5b-faad-4f89-98f2-07dcd3a11f37",
   "metadata": {},
   "source": [
    "Make some maps of the sliced grids:"
   ]
  },
  {
   "cell_type": "code",
   "execution_count": null,
   "id": "6d89c19f-c0b2-433b-a1ac-14f417b81463",
   "metadata": {},
   "outputs": [],
   "source": []
  },
  {
   "cell_type": "code",
   "execution_count": null,
   "id": "af7f72ec-d506-48b9-bd65-e72f8dba3225",
   "metadata": {},
   "outputs": [],
   "source": []
  },
  {
   "cell_type": "code",
   "execution_count": null,
   "id": "8e74390b-7003-4444-8a6f-ed613c238c94",
   "metadata": {},
   "outputs": [],
   "source": []
  },
  {
   "cell_type": "markdown",
   "id": "483d5b6c-b349-40ad-bc6d-ea4106613bf8",
   "metadata": {},
   "source": [
    "Things to note on these maps:\n",
    "\n",
    "* There is a triple junction in there with 2 mid-ocean ridges meeting (it's clear from the age grid).\n",
    "* This region is roughly in isostatic equilibrium, except for a few island chains and fracture zones."
   ]
  },
  {
   "cell_type": "markdown",
   "id": "4044fd98-c76c-40d2-928f-f66719983758",
   "metadata": {},
   "source": [
    "## 💆🏾‍♂️ Prepare the data\n",
    "\n",
    "Remember how I said we'd have to deal with the fact that the grids aren't aligned? That time is now!\n",
    "\n",
    "We'll want to compare the age and bathymetric data, making cross-plots of these values and trying to model the bathymetry as a function of age. To do this, we need bathymetry and age values at the **exact same points**. \n",
    "\n",
    "This is how we'll do it: \n",
    "\n",
    "1. Project the 2 grids so we can work in Cartesian coordinates (makes interpolation and down-sampling a bit easier).\n",
    "1. Down-sample the age grid to roughly 10 arc-minutes resolution.\n",
    "1. Interpolate the age values onto the same points as the bathymetry grid.\n",
    "\n",
    "First, project the grids using [Verde](https://www.fatiando.org/verde/)."
   ]
  },
  {
   "cell_type": "code",
   "execution_count": null,
   "id": "19638f4c-22cb-4975-a756-1f1ba8700903",
   "metadata": {},
   "outputs": [],
   "source": []
  },
  {
   "cell_type": "markdown",
   "id": "1a376066-1a48-4609-90b3-d1a20b9ef44a",
   "metadata": {},
   "source": [
    "> ℹ️ **Note:** You can safely ignore these `FutureWarning`s coming from Verde. They aren't errors and [will be resolved in Verde 1.8.0 once that is released](https://github.com/fatiando/verde/issues/363)."
   ]
  },
  {
   "cell_type": "markdown",
   "id": "79f78deb-1979-45b4-99c1-576c51900136",
   "metadata": {},
   "source": [
    "Now we can down-sample the age grid to roughly 10 arc-minute resolution. We'll first need to convert the grid into a set of points, then we can take the mean values inside 10 arc-minute blocks. By doing this *block reduction* instead of simply taking every-other point, we avoid issues with [aliasing](https://en.wikipedia.org/wiki/Aliasing)."
   ]
  },
  {
   "cell_type": "code",
   "execution_count": null,
   "id": "d447e1b9-5696-470c-a6d0-ff3ee12b42b7",
   "metadata": {},
   "outputs": [],
   "source": []
  },
  {
   "cell_type": "markdown",
   "id": "b130c277-a302-414c-9845-385fc1f6b89b",
   "metadata": {},
   "source": [
    "Finally, we can now interpolate the age data onto the same points as the bathymetry grid."
   ]
  },
  {
   "cell_type": "code",
   "execution_count": null,
   "id": "06ec8398-ccb1-4768-95c0-aa1b3aee1100",
   "metadata": {},
   "outputs": [],
   "source": []
  },
  {
   "cell_type": "markdown",
   "id": "0d8f045c-0693-4aef-be2a-ed5404528e67",
   "metadata": {},
   "source": [
    "Now we can merge the bathymetry grid into the `grid` variable (a `xarray.Dataset`) for easier manipulation."
   ]
  },
  {
   "cell_type": "code",
   "execution_count": null,
   "id": "b6398e51-212a-4439-a478-4981a93d16bd",
   "metadata": {},
   "outputs": [],
   "source": []
  },
  {
   "cell_type": "markdown",
   "id": "83f3cc7b-27cc-4673-8560-26af8632306a",
   "metadata": {},
   "source": [
    "Plot some maps of these two grids:"
   ]
  },
  {
   "cell_type": "code",
   "execution_count": null,
   "id": "0fbe30e6-a511-4aa3-b716-c464cdd56d32",
   "metadata": {},
   "outputs": [],
   "source": []
  },
  {
   "cell_type": "code",
   "execution_count": null,
   "id": "ada8ce8a-e6c1-4b02-bdee-bdc9bc7ebe87",
   "metadata": {},
   "outputs": [],
   "source": []
  },
  {
   "cell_type": "markdown",
   "id": "234b4e60-96c2-42c6-8981-ed9fc4f9032c",
   "metadata": {},
   "source": [
    "Make a cross-plot to see if there is any relationship between bathymetry and seafloor age."
   ]
  },
  {
   "cell_type": "code",
   "execution_count": null,
   "id": "b3f77443-68a3-420f-a09b-09a43483f038",
   "metadata": {},
   "outputs": [],
   "source": []
  },
  {
   "cell_type": "markdown",
   "id": "f33005c8-8265-48c9-89d0-f8b71000139b",
   "metadata": {},
   "source": [
    "There is clearly a pattern there but it's also very noisy, with a lot of very shallow points (all of those oceanic islands). Let's **remove the small wavelength effects of the islands** to see if we can highlight the main trend better. We can do this by **down-sampling both grids**.\n",
    "\n",
    "This is easier now that both are in the same `xarray.Dataset` since we can use the `coarsen` method. It will essentially perform the same blocked operation we did with Verde but it works better with grids. Let's coarsen these grids down to about 1 degree resolution (take a mean every 6 points)."
   ]
  },
  {
   "cell_type": "code",
   "execution_count": null,
   "id": "38399620-38ff-42a3-896b-2a9aa287d58b",
   "metadata": {},
   "outputs": [],
   "source": []
  },
  {
   "cell_type": "markdown",
   "id": "a53554b5-ae5c-4a3c-998a-40f15e80462e",
   "metadata": {},
   "source": [
    "Make the plots again to see what happened."
   ]
  },
  {
   "cell_type": "code",
   "execution_count": null,
   "id": "4b3382cb-a8d2-4d36-9264-eb0326714253",
   "metadata": {},
   "outputs": [],
   "source": []
  },
  {
   "cell_type": "code",
   "execution_count": null,
   "id": "6f45eee2-9a6a-4004-9c57-d2cda1d82886",
   "metadata": {},
   "outputs": [],
   "source": []
  },
  {
   "cell_type": "markdown",
   "id": "2b757170-bc44-4511-a25a-ddc55e46b63c",
   "metadata": {},
   "source": [
    "Make a cross-plot to see if there is any relationship between bathymetry and seafloor age."
   ]
  },
  {
   "cell_type": "code",
   "execution_count": null,
   "id": "028f5d1d-5431-41ea-b96b-57de8233ffdc",
   "metadata": {},
   "outputs": [],
   "source": []
  },
  {
   "cell_type": "markdown",
   "id": "732f19b9-dd17-4add-83bf-26bf62336b50",
   "metadata": {},
   "source": [
    "Now that the islands and other short-wavelength features have been smoothed over, the overall pattern of deeper oceanic basins as they age is clear to see. \n",
    "\n",
    "Our next step is to see if we can **model this relationship**."
   ]
  },
  {
   "cell_type": "markdown",
   "id": "db7e7603-b113-47e2-a073-b0b0787a522e",
   "metadata": {},
   "source": [
    "## 🍽️ The plate model\n",
    "\n",
    "The **plate cooling model** describes the temperature distribution and evolution of the oceanic lithosphere, from its formation at mid-ocean ridges to its cooling as it ages and moves away from the ridge. This is a sketch of how the model is set up:\n",
    "\n",
    "![Sketch of the plate model, showing the main variables and concepts of the model](https://github.com/compgeolab/transform2022/raw/main/figures/ridge-cooling-model-setup.png)\n",
    "\n",
    "The model assumes that:\n",
    "\n",
    "* The lithosphere is formed at the ridge and spreads symmetrically around it (so we only need to model one side) with a speed of $u$.\n",
    "* The top of the lithosphere is kept at a constant temperature $T=T_0$.\n",
    "* The asthenosphere and mid-ocean ridge are at a constant temperature $T=T_a$.\n",
    "* The cooling happens only by vertical conduction from the lithosphere into the water column.\n",
    "\n",
    "With this model setup, we can tread this as 1D thermal diffusion problem since we can replace the distance to the ridge ($x$) with its age ($t$). The governing differential equation for this is:\n",
    "\n",
    "$$\n",
    "\\dfrac{\\partial^2 T}{\\partial z^2}\n",
    "= \\dfrac{1}{\\alpha} \\dfrac{\\partial T}{\\partial t}\n",
    "$$\n",
    "\n",
    "in which $\\alpha$ is the thermal diffusivity of the lithosphere. With the boundary conditions of constant temperature $T_0$ at the surface, constant temperature $T_a$ at $z=z_L$ (the **maximum lithospheric thickness**), and initial condition of $T = T_a$, the solution to this equation is:\n",
    "\n",
    "$$\n",
    "T(z, t) = \n",
    "T_0 + (T_a - T_0)\n",
    "\\left[\n",
    "\\dfrac{z}{z_L} + \\dfrac{2}{\\pi}\n",
    "\\sum\\limits_{n=1}^{\\infty}\n",
    "\\dfrac{1}{n}\n",
    "\\exp\\left(-\\dfrac{\\alpha n^2 \\pi^2 t}{z_L^2}\\right)\n",
    "\\sin\\left(\\dfrac{n \\pi z}{z_L}\\right)\n",
    "\\right]\n",
    "$$"
   ]
  },
  {
   "cell_type": "markdown",
   "id": "78ce3e07-7fd3-490e-ac3e-9d1f3354b909",
   "metadata": {},
   "source": [
    "> ℹ️ **Note:** The equations used here can be found the classic book *Geodynamics* by [Turcotte & Schubert (2014)](https://doi.org/10.1017/CBO9780511843877). I highly recommend going over the derivations and explanations in there."
   ]
  },
  {
   "cell_type": "markdown",
   "id": "15f795c1-c90b-4716-af0c-d2c44a586868",
   "metadata": {},
   "source": [
    "## 🥠 Predicting bathymetry\n",
    "\n",
    "We can use the plate cooling model temperature distribution above to **predict bathymetry** by assuming that the oceanic lithosphere is in **isostatic equilibrium** (which we know to be true due to the gravity disturbances). Imposing that condition and assuming that the density of the lithosphere changes as it cools by a linear coefficient of thermal expansion $\\alpha_V$, we can arrive at a prediction of **bathymetry for the plate cooling model**:\n",
    "\n",
    "$$\n",
    "w(t) = w_r + \\dfrac{\\rho_m \\alpha_V (T_a - T_0) z_L}{\\rho_m - \\rho_w} \\left[ \\dfrac{1}{2} - \\dfrac{4}{\\pi^2}\n",
    "\\sum\\limits_{m=0}^{\\infty} \\dfrac{1}{(1 + 2m)^2} \\exp\\left(-\\dfrac{t \\alpha \\pi^2 (1 + 2m)^2}{z_L^2}\\right) \\right]\n",
    "$$\n",
    "\n",
    "Let's make a function that calculates this prediction. We'll assume that temperatures are in $K$, distances are in $m$, ages are in $Myr$, thermal diffusivity is in $mm^2/s$, thermal expansion is in $1/K$, and densities are in $kg/m^3$."
   ]
  },
  {
   "cell_type": "code",
   "execution_count": null,
   "id": "d3034bb8-2a7c-442b-ba65-1b5a39410071",
   "metadata": {},
   "outputs": [],
   "source": []
  },
  {
   "cell_type": "markdown",
   "id": "7d069d4d-742e-4f37-9217-070bb7271e05",
   "metadata": {},
   "source": [
    "Now we can try to make a prediction of bathymetry and see if it matches our data. To do so, let's assume the following parameters:\n",
    "\n",
    "|Input parameters|\n",
    "|--|\n",
    "|$$w_r = 2500\\ m$$|\n",
    "|$$\\rho_w = 1000\\ \\frac{kg}{m^3}$$|\n",
    "|$$\\rho_m = 3300\\ \\frac{kg}{m^3}$$|\n",
    "|$$T_0 = 273\\ K$$|\n",
    "|$$T_a = 1600\\ K$$|\n",
    "|$$\\alpha = 1\\ \\frac{mm^2}{s}$$|\n",
    "|$$\\alpha_V = 3\\cdot 10^{-5}\\ K^{-1}$$|"
   ]
  },
  {
   "cell_type": "code",
   "execution_count": null,
   "id": "fb60ca5a-e8eb-4fd0-a827-805a1d655096",
   "metadata": {},
   "outputs": [],
   "source": []
  },
  {
   "cell_type": "markdown",
   "id": "6d4ac1fd-c58a-4c24-b697-e9c0eb830e85",
   "metadata": {},
   "source": [
    "The beauty of tools like xarray and Python's dynamic typing is that our calculation function doesn't need to know that it's even using xarray grid and not a single number! By passing our age as grid, we get a grid of bathymetry back. If we passed in a single number, that's what we would get without having to change anything in the code."
   ]
  },
  {
   "cell_type": "markdown",
   "id": "cd47e095-e06c-44c6-a588-040775af0e55",
   "metadata": {},
   "source": [
    "Let's make a plot of the grid of predicted bathymetry."
   ]
  },
  {
   "cell_type": "code",
   "execution_count": null,
   "id": "ba248d88-c7ac-4a24-a9c9-5a1bc2e719d2",
   "metadata": {},
   "outputs": [],
   "source": []
  },
  {
   "cell_type": "markdown",
   "id": "04b66591-4122-4123-bb55-411f6fd6035a",
   "metadata": {},
   "source": [
    "Looks sensible and visually very similar to our smoothed bathymetry grid. "
   ]
  },
  {
   "cell_type": "markdown",
   "id": "e8cd6077-4665-4b92-ab2d-bf2217a92126",
   "metadata": {},
   "source": [
    "Now we can check how the model predictions compare to the real observed data by plotting them side-by-side."
   ]
  },
  {
   "cell_type": "code",
   "execution_count": null,
   "id": "01a2ac40-b329-40cf-af6d-0a20e02d6a93",
   "metadata": {},
   "outputs": [],
   "source": []
  },
  {
   "cell_type": "markdown",
   "id": "91c8bf5c-d451-4810-a580-ff2bab50ed24",
   "metadata": {},
   "source": [
    "🥳 **It fits!** From this plot, we can see that the plate model does a very good job at predicting the increase in bathymetric depth as the oceanic lithosphere cools with age. Of course, the **input parameters used have a large influence on this** and I chose values that I knew would fit the data ahead of time. "
   ]
  },
  {
   "cell_type": "markdown",
   "id": "5802781e-cec8-4547-bc87-a3c2c8690730",
   "metadata": {},
   "source": [
    "## 💡 Ideas for you to try\n",
    "\n",
    "That's all we have time for here but I wanted to leave you with some ideas for things you can try to do with this code and data on your own:\n",
    "\n",
    "* Make a function that calculates the temperature distribution with time and depth for the plate model (the first equation above) and make a plot to see if this matches what is on the *Geodynamics* book.\n",
    "* Zoom in on different mid-ocean ridge systems around the world. **Does the plate model work as well in them or is it only valid for the South Pacific?** Will you have to change the input parameters to get a fit? If so, what does that mean in terms of the properties of that mid-ocean ridge system?\n",
    "* Try to find the $z_L$, $\\alpha_V$, etc that best fit the data through **an inversion**. This will be a non-linear. One way to do this would be to use [`scipy.optimize.minimize_scalar`](https://docs.scipy.org/doc/scipy/reference/generated/scipy.optimize.minimize_scalar.html#scipy.optimize.minimize_scalar) to find the parameters that minimize the sum of squared differences between the data and the model predictions.\n",
    "\n",
    "Use the empty cells below (add more as needed) to try some of this out! **I'd love to see what you come up with!** Share your results and ideas by either [opening an issue on GitHub](https://github.com/compgeolab/transform2022/issues) or on the [Software Underground](https://softwareunderground.org/) Slack group.\n",
    "\n",
    "**Happy coding!**"
   ]
  },
  {
   "cell_type": "code",
   "execution_count": null,
   "id": "3892d2ef-2901-41db-bc7c-efcd6b64fde6",
   "metadata": {},
   "outputs": [],
   "source": []
  },
  {
   "cell_type": "code",
   "execution_count": null,
   "id": "8cfb7055-b291-4995-835a-4982aa6b5cf1",
   "metadata": {},
   "outputs": [],
   "source": []
  },
  {
   "cell_type": "code",
   "execution_count": null,
   "id": "0522805f-e0a6-42e2-b561-970c5be1f0ac",
   "metadata": {},
   "outputs": [],
   "source": []
  }
 ],
 "metadata": {
  "kernelspec": {
   "display_name": "Python [conda env:t22-wed-mor-geophysics]",
   "language": "python",
   "name": "conda-env-t22-wed-mor-geophysics-py"
  },
  "language_info": {
   "codemirror_mode": {
    "name": "ipython",
    "version": 3
   },
   "file_extension": ".py",
   "mimetype": "text/x-python",
   "name": "python",
   "nbconvert_exporter": "python",
   "pygments_lexer": "ipython3",
   "version": "3.9.0"
  },
  "toc-autonumbering": false
 },
 "nbformat": 4,
 "nbformat_minor": 5
}
